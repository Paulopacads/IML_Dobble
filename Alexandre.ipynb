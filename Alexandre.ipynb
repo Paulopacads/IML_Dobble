{
 "cells": [
  {
   "cell_type": "markdown",
   "metadata": {},
   "source": [
    "# Notebook de Alexandre\n",
    "\n",
    "Ici, Alexandre peut faire ses tests pour les parties du sujet dont il s'occupe.\n",
    "\n",
    "Bon courage Alexandre :)"
   ]
  },
  {
   "cell_type": "markdown",
   "metadata": {},
   "source": [
    "## Import necessary libraries"
   ]
  },
  {
   "cell_type": "code",
   "execution_count": 426,
   "metadata": {},
   "outputs": [],
   "source": [
    "import numpy as np\n",
    "import matplotlib.pyplot as plt\n",
    "%matplotlib inline\n",
    "import os\n",
    "import shutil as su\n",
    "import random as rd\n",
    "import cv2"
   ]
  },
  {
   "cell_type": "markdown",
   "metadata": {},
   "source": [
    "## Load data"
   ]
  },
  {
   "cell_type": "code",
   "execution_count": 427,
   "metadata": {},
   "outputs": [],
   "source": [
    "%%bash\n",
    "mkdir -p tmp_data\n",
    "rm -rf tmp_data/*\n",
    "mkdir -p tmp_data/train_set\n",
    "mkdir -p tmp_data/test_set"
   ]
  },
  {
   "cell_type": "markdown",
   "metadata": {},
   "source": [
    "## Separate training dataset"
   ]
  },
  {
   "cell_type": "code",
   "execution_count": 428,
   "metadata": {},
   "outputs": [],
   "source": [
    "def separate_data(path, nb_elements=1):\n",
    "    \"\"\"\n",
    "    Separate given data in `path` in two sets with `nb_elements` per class for test\n",
    "\n",
    "    Parameters\n",
    "    ----------\n",
    "    path: str\n",
    "        Path to directory where dataset files are stored.\n",
    "\n",
    "    nb_elements: integer\n",
    "        Defines the number of test images taken in each class of the dataset\n",
    "    \"\"\"\n",
    "    labels_path = os.path.join(path, \"labels.txt\")\n",
    "    images_path = path\n",
    "    test_path = 'tmp_data/test_set'\n",
    "    train_path = 'tmp_data/train_set'\n",
    "\n",
    "    \n",
    "    labels = np.empty((0, 1))\n",
    "    names = np.empty((0, 1))\n",
    "    with open(labels_path) as f:\n",
    "        for current_label in f:\n",
    "            if current_label == \"\\n\":\n",
    "                continue\n",
    "            label, name = current_label.split(\": \")\n",
    "            labels = np.append(labels, label)\n",
    "            names = np.append(names, name)\n",
    "\n",
    "    for label in labels:\n",
    "        pre_label = 'img_' + label + '_'\n",
    "        curr_test_path = os.path.join(test_path, label)\n",
    "        curr_train_path = os.path.join(train_path, label)\n",
    "        os.makedirs(curr_test_path, exist_ok=True)\n",
    "        os.makedirs(curr_train_path, exist_ok=True)\n",
    "\n",
    "        current_path = os.path.join(images_path, label)\n",
    "        datas = os.listdir(current_path)\n",
    "        rd.shuffle(datas)\n",
    "\n",
    "        count = 0\n",
    "        for data in datas:\n",
    "            data_path = os.path.join(current_path, data)\n",
    "            if count < nb_elements:\n",
    "                su.copyfile(data_path, os.path.join(curr_test_path, pre_label + str(count) + '.png'))\n",
    "            else:\n",
    "                su.copyfile(data_path, os.path.join(curr_train_path, pre_label + str(count - nb_elements) + '.png'))\n",
    "            count += 1\n",
    "\n",
    "    return labels, names"
   ]
  },
  {
   "cell_type": "code",
   "execution_count": 429,
   "metadata": {
    "scrolled": true
   },
   "outputs": [],
   "source": [
    "ref = separate_data('ressources/train', 2)"
   ]
  },
  {
   "cell_type": "markdown",
   "metadata": {},
   "source": [
    "## Get separated datasets"
   ]
  },
  {
   "cell_type": "code",
   "execution_count": 430,
   "metadata": {},
   "outputs": [],
   "source": [
    "def get_datasets(kind='train'):\n",
    "    \"\"\"\n",
    "    Returns `kind` set and their label\n",
    "\n",
    "    Parameters\n",
    "    ----------\n",
    "    kind: str (train or test)\n",
    "        Type of dataset we want to get\n",
    "    \"\"\"\n",
    "    assert kind == 'train' or kind == 'test'\n",
    "    dataset_path = 'tmp_data/train_set' if kind == 'train' else 'tmp_data/test_set'\n",
    "    \n",
    "    images = []\n",
    "    labels = []\n",
    "    dirs = os.listdir(dataset_path)\n",
    "\n",
    "    for folder in dirs : \n",
    "        curr_path = os.path.join(dataset_path, folder)\n",
    "        datas = os.listdir(curr_path)\n",
    "        for data in datas:\n",
    "            data_path = os.path.join(curr_path, data)\n",
    "            img = cv2.imread(data_path);\n",
    "            img = cv2.cvtColor(img, cv2.COLOR_BGR2RGB);\n",
    "            images.append(img)\n",
    "            labels.append(folder)\n",
    "    \n",
    "    return labels, images"
   ]
  },
  {
   "cell_type": "code",
   "execution_count": 431,
   "metadata": {},
   "outputs": [],
   "source": [
    "train_labels, train_images = get_datasets('train')\n",
    "test_labels, test_images = get_datasets('test')"
   ]
  },
  {
   "cell_type": "markdown",
   "metadata": {},
   "source": [
    "## Shuffle datasets"
   ]
  },
  {
   "cell_type": "code",
   "execution_count": 432,
   "metadata": {},
   "outputs": [],
   "source": [
    "def shuffle_set(labels, images):\n",
    "    \"\"\"\n",
    "    Shuffles equally labels and images\n",
    "\n",
    "    Parameters\n",
    "    ----------\n",
    "    labels: [str]\n",
    "        Dataset's labels\n",
    "        \n",
    "    images: [image]\n",
    "        Dataset's images\n",
    "    \"\"\"\n",
    "    assert len(labels) == len(images)\n",
    "    shuffle_index = np.arange(len(labels))\n",
    "    np.random.shuffle(shuffle_index)\n",
    "    new_labels = np.array(labels)\n",
    "    new_images = np.array(images, dtype=object)\n",
    "    \n",
    "    for ii in range(shuffle_index.size):\n",
    "        new_labels[ii] = labels[shuffle_index[ii]]\n",
    "        new_images[ii] = images[shuffle_index[ii]]\n",
    "        \n",
    "    return new_labels, new_images"
   ]
  },
  {
   "cell_type": "code",
   "execution_count": 433,
   "metadata": {
    "scrolled": true
   },
   "outputs": [],
   "source": [
    "#train_labels, train_images = shuffle_set(train_labels, train_images)\n",
    "#test_labels, test_images = shuffle_set(test_labels, test_images)"
   ]
  },
  {
   "cell_type": "markdown",
   "metadata": {},
   "source": [
    "## Print train example"
   ]
  },
  {
   "cell_type": "code",
   "execution_count": 434,
   "metadata": {
    "scrolled": true
   },
   "outputs": [
    {
     "name": "stdout",
     "output_type": "stream",
     "text": [
      "01\n",
      "['lunettes\\n']\n"
     ]
    },
    {
     "data": {
      "image/png": "[encoded data removed]",
      "text/plain": [
       "<Figure size 432x288 with 1 Axes>"
      ]
     },
     "metadata": {
      "needs_background": "light"
     },
     "output_type": "display_data"
    }
   ],
   "source": [
    "print(train_labels[0])\n",
    "plt.imshow(train_images[0])\n",
    "print(ref[1][np.where(ref[0] == train_labels[0])])"
   ]
  },
  {
   "cell_type": "markdown",
   "metadata": {},
   "source": [
    "## Print test example"
   ]
  },
  {
   "cell_type": "code",
   "execution_count": 435,
   "metadata": {
    "scrolled": true
   },
   "outputs": [
    {
     "name": "stdout",
     "output_type": "stream",
     "text": [
      "01\n",
      "['lunettes\\n']\n"
     ]
    },
    {
     "data": {
      "image/png": "[encoded data removed]",
      "text/plain": [
       "<Figure size 432x288 with 1 Axes>"
      ]
     },
     "metadata": {
      "needs_background": "light"
     },
     "output_type": "display_data"
    }
   ],
   "source": [
    "print(test_labels[0])\n",
    "plt.imshow(test_images[0])\n",
    "print(ref[1][np.where(ref[0] == test_labels[0])])"
   ]
  },
  {
   "cell_type": "markdown",
   "metadata": {},
   "source": [
    "## Summary\n",
    "\n",
    "If you executed all of the above, you defined the following variables:\n",
    "\n",
    "```python\n",
    "ref # couple:\n",
    "    ref[0] # labels' identifiers\n",
    "    ref[1] # labels\n",
    "\n",
    "train_labels # train dataset's images' identifiers for labels\n",
    "\n",
    "train_images # train dataset's images\n",
    "\n",
    "test_labels # test dataset's images' identifiers for labels\n",
    "\n",
    "test_images # test dataset's images\n",
    "```"
   ]
  },
  {
   "cell_type": "code",
   "execution_count": 436,
   "metadata": {},
   "outputs": [
    {
     "data": {
      "text/plain": [
       "<matplotlib.image.AxesImage at 0x1de11c48a00>"
      ]
     },
     "execution_count": 436,
     "metadata": {},
     "output_type": "execute_result"
    },
    {
     "data": {
      "image/png": "[encoded data removed]",
      "text/plain": [
       "<Figure size 432x288 with 1 Axes>"
      ]
     },
     "metadata": {
      "needs_background": "light"
     },
     "output_type": "display_data"
    }
   ],
   "source": [
    "def is_white(pixel):\n",
    "    sum_rgb = int(pixel[0]) + int(pixel[1]) + int(pixel[2])\n",
    "    return sum_rgb > 700\n",
    "\n",
    "def binarize(img):\n",
    "    ret = img.copy()\n",
    "    for i in range(len(img)):\n",
    "        for j in range(len(img[0])):\n",
    "            if is_white(img[i][j]):\n",
    "                ret[i][j] = [255, 255, 255]\n",
    "            else:\n",
    "                ret[i][j] = [0, 0, 0]\n",
    "    return ret\n",
    "\n",
    "binary = binarize(train_images[156])\n",
    "plt.imshow(binary)"
   ]
  },
  {
   "cell_type": "code",
   "execution_count": 443,
   "metadata": {},
   "outputs": [
    {
     "name": "stdout",
     "output_type": "stream",
     "text": [
      "4\n"
     ]
    },
    {
     "data": {
      "image/png": "[encoded data removed]",
      "text/plain": [
       "<Figure size 432x288 with 1 Axes>"
      ]
     },
     "metadata": {
      "needs_background": "light"
     },
     "output_type": "display_data"
    }
   ],
   "source": [
    "def img_from_binary_map(img_map):\n",
    "    img = np.zeros((len(img_map),len(img_map[0]),3), np.uint8)\n",
    "    for i in range(len(img_map)):\n",
    "        for j in range(len(img_map[0])):\n",
    "            if img_map[i][j] == 0:\n",
    "                img[i][j] = [0,0,0]\n",
    "            else:\n",
    "                img[i][j] = [255, 255, 255]\n",
    "    return img\n",
    "\n",
    "def fill_map(img, img_map, i, j):\n",
    "    if img_map[i][j] == 1 or not is_white(img[i][j]):\n",
    "        return True\n",
    "\n",
    "    img_map[i][j] = 1\n",
    "\n",
    "    up = False\n",
    "    down = False\n",
    "    left = False\n",
    "    right = False\n",
    "    if (not i - 1 < 0):\n",
    "        up = fill_map(img, img_map, i - 1, j)\n",
    "    if (not i + 1 >= len(img_map)):\n",
    "        down = fill_map(img, img_map, i + 1, j)\n",
    "    if (not j - 1 < 0):\n",
    "        left = fill_map(img, img_map, i, j - 1)\n",
    "    if (not j + 1 >= len(img_map[0])):\n",
    "        right = fill_map(img, img_map, i, j + 1)\n",
    "    \n",
    "    return up and down and left and right\n",
    "\n",
    "def find_holes(img):\n",
    "    img_map = [[0 for _ in range(len(img[0]))] for _ in range(len(img))]\n",
    "    edited = True\n",
    "    while edited:\n",
    "        edited = False\n",
    "        for i in range(len(img_map)):\n",
    "            for j in range(len(img_map[0])):\n",
    "                if img_map[i][j] == 0 and is_white(img[i][j]) and ((j == 0 or img_map[i][j-1] == 1) or (i == 0 or img_map[i-1][j] == 1)):\n",
    "                    img_map[i][j] = 1\n",
    "                    edited = True\n",
    "\n",
    "            for j in reversed(range(len(img_map[0]))):\n",
    "                if img_map[i][j] == 0 and is_white(img[i][j]) and ((j == len(img[0]) - 1 or img_map[i][j+1] == 1) or (i == 0 or img_map[i-1][j] == 1)):\n",
    "                    img_map[i][j] = 1\n",
    "                    edited = True\n",
    "\n",
    "        for i in reversed(range(len(img_map))):\n",
    "            for j in range(len(img_map[0])):\n",
    "                if img_map[i][j] == 0 and is_white(img[i][j]) and ((j == 0 or img_map[i][j-1] == 1) or (i == len(img_map) - 1 or img_map[i+1][j] == 1)):\n",
    "                    img_map[i][j] = 1\n",
    "                    edited = True\n",
    "\n",
    "            for j in reversed(range(len(img_map[0]))):\n",
    "                if img_map[i][j] == 0 and is_white(img[i][j]) and ((j == len(img[0]) - 1 or img_map[i][j+1] == 1) or (i == len(img_map) - 1 or img_map[i+1][j] == 1)):\n",
    "                    img_map[i][j] = 1\n",
    "                    edited = True\n",
    "\n",
    "        for j in range(len(img_map[0])):\n",
    "            for i in range(len(img_map)):\n",
    "                if img_map[i][j] == 0 and is_white(img[i][j]) and ((j == 0 or img_map[i][j-1] == 1) or (i == 0 or img_map[i-1][j] == 1)):\n",
    "                    img_map[i][j] = 1\n",
    "                    edited = True\n",
    "\n",
    "            for i in reversed(range(len(img_map))):\n",
    "                if img_map[i][j] == 0 and is_white(img[i][j]) and ((j == 0 or img_map[i][j-1] == 1) or (i == len(img_map) - 1 or img_map[i+1][j] == 1)):\n",
    "                    img_map[i][j] = 1\n",
    "                    edited = True\n",
    "\n",
    "        for j in reversed(range(len(img_map[0]))):\n",
    "            for i in range(len(img_map)):\n",
    "                if img_map[i][j] == 0 and is_white(img[i][j]) and ((j == len(img[0]) - 1 or img_map[i][j+1] == 1) or (i == 0 or img_map[i-1][j] == 1)):\n",
    "                    img_map[i][j] = 1\n",
    "                    edited = True\n",
    "\n",
    "            for i in reversed(range(len(img_map))):\n",
    "                if img_map[i][j] == 0 and is_white(img[i][j]) and ((j == len(img[0]) - 1 or img_map[i][j+1] == 1) or (i == len(img_map) - 1 or img_map[i+1][j] == 1)):\n",
    "                    img_map[i][j] = 1\n",
    "                    edited = True\n",
    "            \n",
    "    holes = np.zeros((len(img_map),len(img_map[0]),3), np.uint8)\n",
    "    for i in range(len(img_map)):\n",
    "        for j in range(len(img_map[0])):\n",
    "            if img_map[i][j] == 0 and is_white(img[i][j]):\n",
    "                holes[i][j] = [255, 255, 255]\n",
    "\n",
    "    plt.imshow(holes)\n",
    "\n",
    "    nb_holes = 0\n",
    "    void_prec = True\n",
    "    for i in range(len(img_map)):\n",
    "        for j in range(len(img_map[0])):\n",
    "            if img_map[i][j] == 0 and is_white(img[i][j]):\n",
    "                if void_prec:\n",
    "                    nb_holes += 1\n",
    "                    void_prec = False\n",
    "                break\n",
    "            elif j == len(img_map[0]) - 1:\n",
    "                void_prec = True\n",
    "                \n",
    "    print(nb_holes)\n",
    "\n",
    "find_holes(binary)"
   ]
  },
  {
   "cell_type": "code",
   "execution_count": 438,
   "metadata": {},
   "outputs": [
    {
     "name": "stdout",
     "output_type": "stream",
     "text": [
      "[[0, 0, 0], [0, 0, 0], [0, 0, 0]]\n",
      "[[1, 0, 0], [1, 0, 0], [1, 0, 0]]\n"
     ]
    }
   ],
   "source": [
    "img_map = [[0]*3]*3\n",
    "print(img_map)\n",
    "img_map[0][0] = 1\n",
    "print(img_map)"
   ]
  },
  {
   "cell_type": "code",
   "execution_count": 439,
   "metadata": {},
   "outputs": [
    {
     "name": "stdout",
     "output_type": "stream",
     "text": [
      "[[0, 0, 0], [0, 0, 0], [0, 0, 0]]\n",
      "[[1, 0, 0], [0, 0, 0], [0, 0, 0]]\n"
     ]
    }
   ],
   "source": [
    "img_map = [[0 for i in range(3)] for j in range(3)]\n",
    "print(img_map)\n",
    "img_map[0][0] = 1\n",
    "print(img_map)"
   ]
  },
  {
   "cell_type": "code",
   "execution_count": null,
   "metadata": {},
   "outputs": [],
   "source": []
  }
 ],
 "metadata": {
  "kernelspec": {
   "display_name": "Python 3 (ipykernel)",
   "language": "python",
   "name": "python3"
  },
  "language_info": {
   "codemirror_mode": {
    "name": "ipython",
    "version": 3
   },
   "file_extension": ".py",
   "mimetype": "text/x-python",
   "name": "python",
   "nbconvert_exporter": "python",
   "pygments_lexer": "ipython3",
   "version": "3.10.1"
  }
 },
 "nbformat": 4,
 "nbformat_minor": 4
}
