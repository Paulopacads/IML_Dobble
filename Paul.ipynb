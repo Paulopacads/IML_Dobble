{
 "cells": [
  {
   "cell_type": "markdown",
   "metadata": {},
   "source": [
    "# Notebook de Paul\n",
    "\n",
    "Ici, Paul peut faire ses tests pour les parties du sujet dont il s'occupe.\n",
    "\n",
    "Bon courage Paul :)"
   ]
  },
  {
   "cell_type": "markdown",
   "metadata": {},
   "source": [
    "## Import necessary libraries"
   ]
  },
  {
   "cell_type": "code",
   "execution_count": 2,
   "metadata": {},
   "outputs": [],
   "source": [
    "import numpy as np\n",
    "import matplotlib.pyplot as plt\n",
    "%matplotlib inline\n",
    "import sklearn"
   ]
  },
  {
   "cell_type": "markdown",
   "metadata": {},
   "source": [
    "## Load data"
   ]
  },
  {
   "cell_type": "code",
   "execution_count": 115,
   "metadata": {},
   "outputs": [],
   "source": [
    "%%bash\n",
    "mkdir -p tmp_data\n",
    "rm -rf tmp_data/*\n",
    "mkdir -p tmp_data/train_set\n",
    "mkdir -p tmp_data/test_set"
   ]
  },
  {
   "cell_type": "code",
   "execution_count": 116,
   "metadata": {},
   "outputs": [],
   "source": [
    "def separate_data(path, nb_elements=1):\n",
    "    \"\"\"\n",
    "    Separate given data in `path` in two sets with `nb_elements` per class for test\n",
    "\n",
    "    Parameters\n",
    "    ----------\n",
    "    path: str\n",
    "        Path to directory where dataset files are stored.\n",
    "\n",
    "    nb_elements: integer\n",
    "        Defines the number of test images taken in each class of the dataset\n",
    "    \"\"\"\n",
    "    import os\n",
    "    import shutil\n",
    "    import random\n",
    "\n",
    "    labels_path = os.path.join(path, \"labels.txt\")\n",
    "    images_path = path\n",
    "    test_path = 'tmp_data/test_set'\n",
    "    train_path = 'tmp_data/train_set'\n",
    "\n",
    "    labels = np.empty((0, 1))\n",
    "    names = np.empty((0, 1))\n",
    "    with open(labels_path) as f:\n",
    "        for current_label in f:\n",
    "            if current_label == \"\\n\":\n",
    "                continue\n",
    "            label, name = current_label.split(\": \")\n",
    "            labels = np.append(labels, label)\n",
    "            names = np.append(names, name)\n",
    "\n",
    "    for label in labels:\n",
    "        curr_test_path = os.path.join(test_path, label)\n",
    "        curr_train_path = os.path.join(train_path, label)\n",
    "        os.makedirs(curr_test_path, exist_ok=True)\n",
    "        os.makedirs(curr_train_path, exist_ok=True)\n",
    "\n",
    "        current_path = os.path.join(images_path, label)\n",
    "        datas = os.listdir(current_path)\n",
    "        random.shuffle(datas)\n",
    "\n",
    "        count = 0\n",
    "        for data in datas:\n",
    "            data_path = os.path.join(current_path, data)\n",
    "            if count < nb_elements:\n",
    "                shutil.copyfile(data_path, os.path.join(curr_test_path, data))\n",
    "                count += 1\n",
    "            else:\n",
    "                shutil.copyfile(data_path, os.path.join(curr_train_path, data))\n",
    "\n",
    "    return labels, names"
   ]
  },
  {
   "cell_type": "code",
   "execution_count": 119,
   "metadata": {},
   "outputs": [
    {
     "data": {
      "text/plain": [
       "(array(['01', '02', '03', '04', '05', '06', '07', '08', '09', '10', '11',\n",
       "        '12', '13', '14', '15', '16', '17', '18', '19', '20', '21', '22',\n",
       "        '23', '24', '25', '26', '27', '28', '29', '30', '31', '32', '33',\n",
       "        '34', '35', '36', '37', '38', '39', '40', '41', '42', '43', '44',\n",
       "        '45', '46', '47', '48', '49', '50', '51', '52', '53', '54', '55',\n",
       "        '56', '57'], dtype='<U32'),\n",
       " array(['lunettes\\n', 'cible\\n', 'sens interdit\\n', 'clown\\n', 'ancre\\n',\n",
       "        'bonhomme de neige\\n', 'Ã©clair\\n', 'araignÃ©e\\n',\n",
       "        \"point d'exclamation\\n\", \"point d'interrogation\\n\", 'tÃ¢ches\\n',\n",
       "        'fantÃ´me\\n', 'bombe\\n', 'carotte\\n', 'dragon\\n', 'arbre\\n',\n",
       "        'Å“il\\n', 'voiture\\n', 'lune\\n', 'petit bonhomme\\n', 'horloge\\n',\n",
       "        'cÅ“ur\\n', \"toÃ®le d'araignÃ©e\\n\", 'oiseau\\n', 'feu\\n',\n",
       "        'ying yang\\n', 'cactus\\n', 'goutte\\n', 'cadenas\\n', 'marteau\\n',\n",
       "        'pomme\\n', 'crayon\\n', 'tÃªte de mort\\n', 'chien\\n', 'flocon\\n',\n",
       "        'fleur\\n', 'dauphin\\n', 'main\\n', 'cavalier\\n', 'coccinelle\\n',\n",
       "        'tortue\\n', 'glaÃ§on\\n', 'trÃ¨fle\\n', 'fromage\\n', 'clef de sol\\n',\n",
       "        'ciseaux\\n', 'bouche\\n', 'igloo\\n', 'chaton\\n', 'zÃ¨bre\\n',\n",
       "        'clef de porte\\n', \"feuille d'Ã©rable\\n\", 'soleil\\n', 'biberon\\n',\n",
       "        'T rex\\n', 'ampoule\\n', 'bougie\\n'], dtype='<U32'))"
      ]
     },
     "execution_count": 119,
     "metadata": {},
     "output_type": "execute_result"
    }
   ],
   "source": [
    "labels, names = separate_data('ressources/train', 2)\n",
    "labels, names"
   ]
  },
  {
   "cell_type": "code",
   "execution_count": 120,
   "metadata": {},
   "outputs": [],
   "source": [
    "def get_datasets(kind='train'):\n",
    "    \"\"\"\n",
    "    Returns `kind` set and their label\n",
    "\n",
    "    Parameters\n",
    "    ----------\n",
    "    kind: str (train or test)\n",
    "        Type of dataset we want to get\n",
    "    \"\"\"\n",
    "    data_path = 'tmp_data/train_set' if kind == 'train' else 'tmp_data/test_set'\n",
    "    "
   ]
  },
  {
   "cell_type": "code",
   "execution_count": 123,
   "metadata": {},
   "outputs": [
    {
     "name": "stdout",
     "output_type": "stream",
     "text": [
      "tmp_data/train_set\n"
     ]
    }
   ],
   "source": [
    "get_datasets('train')"
   ]
  }
 ],
 "metadata": {
  "kernelspec": {
   "display_name": "Python 3 (ipykernel)",
   "language": "python",
   "name": "python3"
  },
  "language_info": {
   "codemirror_mode": {
    "name": "ipython",
    "version": 3
   },
   "file_extension": ".py",
   "mimetype": "text/x-python",
   "name": "python",
   "nbconvert_exporter": "python",
   "pygments_lexer": "ipython3",
   "version": "3.10.2"
  }
 },
 "nbformat": 4,
 "nbformat_minor": 4
}
