{
 "cells": [
  {
   "cell_type": "markdown",
   "metadata": {},
   "source": [
    "# Notebook d'Antoine\n",
    "\n",
    "Ici, Antoine peut faire ses tests pour les parties du sujet dont il s'occupe.\n",
    "\n",
    "Bon courage Antoine :)"
   ]
  },
  {
   "cell_type": "markdown",
   "metadata": {},
   "source": [
    "## Demo Code"
   ]
  },
  {
   "cell_type": "code",
   "execution_count": 6,
   "metadata": {},
   "outputs": [],
   "source": [
    "import numpy as np\n",
    "import os\n",
    "import cv2"
   ]
  },
  {
   "cell_type": "code",
   "execution_count": 7,
   "metadata": {},
   "outputs": [],
   "source": [
    "def get_demo_images(path) : \n",
    "    assert os.path.exists(path)\n",
    "    images = []\n",
    "    filenames = []\n",
    "    datas = os.listdir(curr_path)\n",
    "    for data in datas :\n",
    "        data_path = os.path.join(path, data)\n",
    "        img = cv2.imread(data_path);\n",
    "        img = cv2.cvtColor(img, cv2.COLOR_BGR2RGB);\n",
    "        images.append(img)\n",
    "        filenames.append(data)\n",
    "    return images, filenames"
   ]
  },
  {
   "cell_type": "code",
   "execution_count": 8,
   "metadata": {},
   "outputs": [],
   "source": [
    "def write_result(save_filename, filenames, labels) : \n",
    "    full_str = \"\"\n",
    "    for i in range(len(filenames)) :\n",
    "        full_str += filenames[i] + ',' + labels[i] + '\\n'\n",
    "    f = open(save_filename, \"w\")\n",
    "    f.write(full_str)\n",
    "    f.close()"
   ]
  },
  {
   "cell_type": "code",
   "execution_count": 11,
   "metadata": {},
   "outputs": [],
   "source": [
    "def launch_demo(clf, filepath) :\n",
    "    demo_images, demo_filenames = get_demo_images(\"\")\n",
    "    pred_labels = clf.predict(demo_images)\n",
    "    write_result(\"demo_result.txt\", filenames, pred_labels)"
   ]
  },
  {
   "cell_type": "code",
   "execution_count": 13,
   "metadata": {},
   "outputs": [
    {
     "ename": "AssertionError",
     "evalue": "",
     "output_type": "error",
     "traceback": [
      "\u001b[0;31m---------------------------------------------------------------------------\u001b[0m",
      "\u001b[0;31mAssertionError\u001b[0m                            Traceback (most recent call last)",
      "Input \u001b[0;32mIn [13]\u001b[0m, in \u001b[0;36m<cell line: 3>\u001b[0;34m()\u001b[0m\n\u001b[1;32m      1\u001b[0m path_save \u001b[38;5;241m=\u001b[39m \u001b[38;5;124m\"\u001b[39m\u001b[38;5;124mclassifier.save\u001b[39m\u001b[38;5;124m\"\u001b[39m\n\u001b[1;32m      2\u001b[0m demo_files_path \u001b[38;5;241m=\u001b[39m \u001b[38;5;124m\"\u001b[39m\u001b[38;5;124mdemo_file.tar.gz\u001b[39m\u001b[38;5;124m\"\u001b[39m\n\u001b[0;32m----> 3\u001b[0m \u001b[38;5;28;01massert\u001b[39;00m os\u001b[38;5;241m.\u001b[39mpath\u001b[38;5;241m.\u001b[39mexists(path_save)\n\u001b[1;32m      4\u001b[0m clf \u001b[38;5;241m=\u001b[39m joblib\u001b[38;5;241m.\u001b[39mload(path)\n\u001b[1;32m      5\u001b[0m launch_demo(clf, demo_files_path)\n",
      "\u001b[0;31mAssertionError\u001b[0m: "
     ]
    }
   ],
   "source": [
    "!tar -xf \"demo_files.tar.gz\"\n",
    "path_save = \"classifier.save\"\n",
    "demo_files_path = \"demo_files\"\n",
    "assert os.path.exists(path_save)\n",
    "assert os.path.exists(demo_files_path)\n",
    "clf = joblib.load(path)\n",
    "launch_demo(clf, demo_files_path)"
   ]
  }
 ],
 "metadata": {
  "kernelspec": {
   "display_name": "Python 3 (ipykernel)",
   "language": "python",
   "name": "python3"
  },
  "language_info": {
   "codemirror_mode": {
    "name": "ipython",
    "version": 3
   },
   "file_extension": ".py",
   "mimetype": "text/x-python",
   "name": "python",
   "nbconvert_exporter": "python",
   "pygments_lexer": "ipython3",
   "version": "3.10.2"
  }
 },
 "nbformat": 4,
 "nbformat_minor": 4
}
